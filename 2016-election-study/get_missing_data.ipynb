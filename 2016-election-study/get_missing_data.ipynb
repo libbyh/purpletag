{
 "cells": [
  {
   "cell_type": "markdown",
   "metadata": {},
   "source": [
    "Many accounts got deleted after the election, so we use Purpletag's collection instead of the new approach to access that data. This notebook produces a tab-delimited file with the following format:\n",
    "\n",
    "```\n",
    "RepToddYoung\t2011-02-01 22:50\t32571547990360064\tcolumbusin\n",
    "RepToddYoung\t2011-01-31 22:01\t32196726592897024\thcr\n",
    "RepToddYoung\t2011-01-28 18:06\t31050544709632001\tfollowfriday\n",
    "RepToddYoung\t2011-01-28 18:06\t31050544709632001\ttcot\n",
    "```"
   ]
  },
  {
   "cell_type": "code",
   "execution_count": null,
   "metadata": {
    "collapsed": true
   },
   "outputs": [],
   "source": [
    "import json, csv\n",
    "from datetime import datetime\n",
    "import time\n",
    "\n",
    "missing = ['repboustany', 'repcorrinebrown', 'repduckworth', 'repgwengraham', 'repjoeheck', \n",
    "           'repjoepitts', 'repkirkpatrick', 'repmattsalmon', 'repmickmulvaney', 'repmikepompeo', \n",
    "           'repmiketurner', 'repmurphyfl', 'reprobbishop', 'repsamfarr', 'reptoddyoung', 'senatorsessions', \n",
    "           'senatortester', 'sentoomey', 'tiberipress', 'yvetteclarke']\n",
    "\n",
    "def make_date(created_at):\n",
    "    dt = time.strftime('%Y-%m-%d %H:%M', time.strptime(created_at,'%a %b %d %H:%M:%S +0000 %Y'))\n",
    "    \n",
    "    return dt\n",
    "    \n",
    "def format_tag(tag):\n",
    "    formatted_tag = tag['text'].lower().encode('utf-8').strip()\n",
    "    \n",
    "    return formatted_tag\n",
    "\n",
    "with open('/data/missing_tweets.csv', 'w+') as o:\n",
    "    writer = csv.writer(o, delimiter='\\t', quotechar='\"', quoting=csv.QUOTE_MINIMAL)\n",
    "    with open('/data/purpletag/jsons/1478545228.json','r') as f:\n",
    "        for line in f:\n",
    "            data = json.loads(line)\n",
    "            tweet_date = make_date(data['created_at'])\n",
    "            if ((data['user']['screen_name'].lower() in missing) & (len(data['entities']['hashtags']) > 0)):\n",
    "                for tag in data['entities']['hashtags']:\n",
    "                    formatted_tag = format_tag(tag)\n",
    "                    writer.writerow([data['user']['screen_name'], tweet_date, data['id'], formatted_tag])\n",
    "                    "
   ]
  }
 ],
 "metadata": {
  "kernelspec": {
   "display_name": "Python [conda env:purpletag]",
   "language": "python",
   "name": "conda-env-purpletag-py"
  },
  "language_info": {
   "codemirror_mode": {
    "name": "ipython",
    "version": 3
   },
   "file_extension": ".py",
   "mimetype": "text/x-python",
   "name": "python",
   "nbconvert_exporter": "python",
   "pygments_lexer": "ipython3",
   "version": "3.6.0"
  }
 },
 "nbformat": 4,
 "nbformat_minor": 2
}
