{
 "cells": [
  {
   "cell_type": "markdown",
   "metadata": {
    "collapsed": true
   },
   "source": [
    "# Why this notebook?\n",
    "In running analysis, I found discrepancies between the lists of legislators collected and those about whom we have data. I can't recreate the collection process from the notes on our servers, so I'm re-collecting tweets, rescoring them, and then running the analysis. This way I can keep track of each step and ensure that I know what data is included and where decision points happen."
   ]
  },
  {
   "cell_type": "markdown",
   "metadata": {},
   "source": [
    "## Getting Old Data\n",
    "Purpletag relies on the [unitedstates project's congress-legislators list](https://github.com/unitedstates/congress-legislators), but that changes. We aren't currently tracking which commit of the file is being used. Instead, I will use the following process:\n",
    "\n",
    "1. get a specific commit of the legislators-social-media.yaml file to get a list of accounts to collect\n",
    "1. use a mod of Jefferson Henrique's [GetOldTweets - python](https://github.com/libbyh/GetOldTweets-python) script to collect the ids of the old tweets\n",
    "1. use the Twitter API to get a JSON of the tweets by ID's\n",
    "1. pass those JSON files to [Purpletag](http://github.com/casmlab/purpletag) for scoring\n",
    "1. analyze as before"
   ]
  },
  {
   "cell_type": "code",
   "execution_count": 28,
   "metadata": {
    "collapsed": true
   },
   "outputs": [],
   "source": [
    "# common imports and functions\n",
    "import pandas as pd\n",
    "import yaml\n",
    "import urllib.request\n",
    "import os\n",
    "import errno\n",
    "from pathlib import Path\n",
    "\n",
    "# set file paths for the right system\n",
    "git_path = '/Users/libbyh/Documents/git/casmlab/purpletag/'\n",
    "git_data_path = git_path + '2016-election-study/data-files/'"
   ]
  },
  {
   "cell_type": "markdown",
   "metadata": {},
   "source": [
    "### Get Specific commit of legislators-social-media.yaml\n",
    "\n",
    "November 16, 2016 commit was last before new House and Senate sworn in."
   ]
  },
  {
   "cell_type": "code",
   "execution_count": 2,
   "metadata": {},
   "outputs": [
    {
     "data": {
      "text/html": [
       "<div>\n",
       "<style>\n",
       "    .dataframe thead tr:only-child th {\n",
       "        text-align: right;\n",
       "    }\n",
       "\n",
       "    .dataframe thead th {\n",
       "        text-align: left;\n",
       "    }\n",
       "\n",
       "    .dataframe tbody tr th {\n",
       "        vertical-align: top;\n",
       "    }\n",
       "</style>\n",
       "<table border=\"1\" class=\"dataframe\">\n",
       "  <thead>\n",
       "    <tr style=\"text-align: right;\">\n",
       "      <th></th>\n",
       "      <th>id.bioguide</th>\n",
       "      <th>id.govtrack</th>\n",
       "      <th>id.thomas</th>\n",
       "      <th>social.facebook</th>\n",
       "      <th>social.facebook_id</th>\n",
       "      <th>social.instagram</th>\n",
       "      <th>social.instagram_id</th>\n",
       "      <th>social.twitter</th>\n",
       "      <th>social.twitter_id</th>\n",
       "      <th>social.youtube</th>\n",
       "      <th>social.youtube_id</th>\n",
       "    </tr>\n",
       "  </thead>\n",
       "  <tbody>\n",
       "    <tr>\n",
       "      <th>0</th>\n",
       "      <td>R000600</td>\n",
       "      <td>412664.0</td>\n",
       "      <td>02222</td>\n",
       "      <td>congresswomanaumuaamata</td>\n",
       "      <td>1537155909907320</td>\n",
       "      <td>NaN</td>\n",
       "      <td>NaN</td>\n",
       "      <td>RepAmata</td>\n",
       "      <td>3.026623e+09</td>\n",
       "      <td>NaN</td>\n",
       "      <td>UCGdrLQbt1PYDTPsampx4t1A</td>\n",
       "    </tr>\n",
       "    <tr>\n",
       "      <th>1</th>\n",
       "      <td>H001070</td>\n",
       "      <td>412645.0</td>\n",
       "      <td>02260</td>\n",
       "      <td>RepCresentHardy</td>\n",
       "      <td>320612381469421</td>\n",
       "      <td>NaN</td>\n",
       "      <td>NaN</td>\n",
       "      <td>RepHardy</td>\n",
       "      <td>2.964223e+09</td>\n",
       "      <td>RepHardy</td>\n",
       "      <td>UCc8E6NWCdgrXjBVI2NNPYdA</td>\n",
       "    </tr>\n",
       "    <tr>\n",
       "      <th>2</th>\n",
       "      <td>Y000064</td>\n",
       "      <td>412428.0</td>\n",
       "      <td>02019</td>\n",
       "      <td>RepToddYoung</td>\n",
       "      <td>186203844738421</td>\n",
       "      <td>NaN</td>\n",
       "      <td>NaN</td>\n",
       "      <td>RepToddYoung</td>\n",
       "      <td>2.341285e+08</td>\n",
       "      <td>RepToddYoung</td>\n",
       "      <td>UCuknj4PGn91gHDNAfboZEgQ</td>\n",
       "    </tr>\n",
       "    <tr>\n",
       "      <th>3</th>\n",
       "      <td>E000295</td>\n",
       "      <td>412667.0</td>\n",
       "      <td>02283</td>\n",
       "      <td>senjoniernst</td>\n",
       "      <td>351671691660938</td>\n",
       "      <td>senjoniernst</td>\n",
       "      <td>1.582703e+09</td>\n",
       "      <td>SenJoniErnst</td>\n",
       "      <td>2.856788e+09</td>\n",
       "      <td>NaN</td>\n",
       "      <td>UCLwrmtF_84FIcK3TyMs4MIw</td>\n",
       "    </tr>\n",
       "    <tr>\n",
       "      <th>4</th>\n",
       "      <td>T000476</td>\n",
       "      <td>412668.0</td>\n",
       "      <td>02291</td>\n",
       "      <td>SenatorThomTillis</td>\n",
       "      <td>1576257352609470</td>\n",
       "      <td>NaN</td>\n",
       "      <td>NaN</td>\n",
       "      <td>senthomtillis</td>\n",
       "      <td>2.964175e+09</td>\n",
       "      <td>NaN</td>\n",
       "      <td>UCUD9VGV4SSGWjGdbn37Ea2w</td>\n",
       "    </tr>\n",
       "  </tbody>\n",
       "</table>\n",
       "</div>"
      ],
      "text/plain": [
       "  id.bioguide  id.govtrack id.thomas          social.facebook  \\\n",
       "0     R000600     412664.0     02222  congresswomanaumuaamata   \n",
       "1     H001070     412645.0     02260          RepCresentHardy   \n",
       "2     Y000064     412428.0     02019             RepToddYoung   \n",
       "3     E000295     412667.0     02283             senjoniernst   \n",
       "4     T000476     412668.0     02291        SenatorThomTillis   \n",
       "\n",
       "  social.facebook_id social.instagram  social.instagram_id social.twitter  \\\n",
       "0   1537155909907320              NaN                  NaN       RepAmata   \n",
       "1    320612381469421              NaN                  NaN       RepHardy   \n",
       "2    186203844738421              NaN                  NaN   RepToddYoung   \n",
       "3    351671691660938     senjoniernst         1.582703e+09   SenJoniErnst   \n",
       "4   1576257352609470              NaN                  NaN  senthomtillis   \n",
       "\n",
       "   social.twitter_id social.youtube         social.youtube_id  \n",
       "0       3.026623e+09            NaN  UCGdrLQbt1PYDTPsampx4t1A  \n",
       "1       2.964223e+09       RepHardy  UCc8E6NWCdgrXjBVI2NNPYdA  \n",
       "2       2.341285e+08   RepToddYoung  UCuknj4PGn91gHDNAfboZEgQ  \n",
       "3       2.856788e+09            NaN  UCLwrmtF_84FIcK3TyMs4MIw  \n",
       "4       2.964175e+09            NaN  UCUD9VGV4SSGWjGdbn37Ea2w  "
      ]
     },
     "execution_count": 2,
     "metadata": {},
     "output_type": "execute_result"
    }
   ],
   "source": [
    "legs_yaml = 'https://raw.githubusercontent.com/unitedstates/congress-legislators/a35d649180d55a0b7d1e381e1774d315371a9188/legislators-social-media.yaml'\n",
    "urllib.request.urlretrieve(legs_yaml, git_data_path + 'legs.yaml')\n",
    "with open(git_data_path + 'legs.yaml', 'r') as f:\n",
    "    df_legs = pd.io.json.json_normalize(yaml.load(f))\n",
    "\n",
    "df_legs.head()"
   ]
  },
  {
   "cell_type": "code",
   "execution_count": 18,
   "metadata": {},
   "outputs": [
    {
     "name": "stdout",
     "output_type": "stream",
     "text": [
      "0         repamata\n",
      "1         rephardy\n",
      "2     reptoddyoung\n",
      "3     senjoniernst\n",
      "4    senthomtillis\n",
      "Name: social.twitter, dtype: object\n"
     ]
    }
   ],
   "source": [
    "series_handles = df_legs[\"social.twitter\"].str.lower()\n",
    "series_handles.dropna(axis=0, how='any')\n",
    "series_handles.rename(index=str, columns={\"social.twitter\": \"handle\"})\n",
    "print(series_handles.head())\n",
    "series_handles.to_csv(git_data_path + 'handles.csv', index=False)"
   ]
  },
  {
   "cell_type": "markdown",
   "metadata": {},
   "source": [
    "### Get Old Tweet IDs\n",
    "Now we pass the Twitter handles we just collected to the GetOldTweets-python script for collection."
   ]
  },
  {
   "cell_type": "code",
   "execution_count": null,
   "metadata": {},
   "outputs": [],
   "source": [
    "get_old_tweets_path = '/Users/libbyh/Documents/git/libbyh/GetOldTweets-python/'\n",
    "get_old_tweets = get_old_tweets_path + 'Exporter.py'\n",
    "\n",
    "list_handles = series_handles.tolist()\n",
    "\n",
    "# getting all tweets for all handles is faster than searching by date, so we're greedy\n",
    "for handle in list_handles: \n",
    "    output_file = git_data_path + \"tweets/\" + handle + '_tweets.csv'\n",
    "    %run $get_old_tweets --username $handle --output $output_file\n",
    "    # break # run once to test"
   ]
  },
  {
   "cell_type": "code",
   "execution_count": null,
   "metadata": {
    "collapsed": true
   },
   "outputs": [],
   "source": []
  }
 ],
 "metadata": {
  "anaconda-cloud": {},
  "kernelspec": {
   "display_name": "Python [default]",
   "language": "python",
   "name": "python3"
  },
  "language_info": {
   "codemirror_mode": {
    "name": "ipython",
    "version": 3
   },
   "file_extension": ".py",
   "mimetype": "text/x-python",
   "name": "python",
   "nbconvert_exporter": "python",
   "pygments_lexer": "ipython3",
   "version": "3.5.3"
  }
 },
 "nbformat": 4,
 "nbformat_minor": 2
}
